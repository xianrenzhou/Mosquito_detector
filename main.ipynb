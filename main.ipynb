{
 "cells": [
  {
   "cell_type": "markdown",
   "metadata": {},
   "source": [
    "## 蚊子声音检测\n",
    "数据集： 转化为声谱图的humbugdb数据库\n",
    "转化方式：未满5s的重复直到5s，超过5秒的切片，以filename_num区分\n",
    "参数如下：\n",
    "generate_spectrogram(segment, sr, output_prefix_narrow, n_fft=2048, hop_length=512, title='Narrowband Spectrogram')\n",
    "self.generate_spectrogram(segment, sr, output_prefix_wide, n_fft=512, hop_length=128, title='Wideband Spectrogram')\n"
   ]
  },
  {
   "cell_type": "markdown",
   "metadata": {
    "vscode": {
     "languageId": "plaintext"
    }
   },
   "source": [
    "## 数据集分析\n",
    "在这个部分，我对蚊子/audio/background的声谱图进行分析，下面是几个典型案例（以窄带频谱图为例）：\n",
    "\n",
    "<p align=\"center\">\n",
    "  <figure style=\"display: inline-block; margin: 10px;\">\n",
    "    <img src=\"https://r2img.xianrenzhou.top/pics/2024/07/853b3e448cfd27cef04d238effb98efe.png\" alt=\"Image 1\" width=\"200\" />\n",
    "    <figcaption>    audio</figcaption>\n",
    "  </figure>\n",
    "  <figure style=\"display: inline-block; margin: 10px;\">\n",
    "    <img src=\"https://r2img.xianrenzhou.top/pics/2024/07/a7d6e172a965a5b83393f12ef3313d1d.png\" alt=\"Image 2\" width=\"200\" />\n",
    "    <figcaption>    background</figcaption>\n",
    "  </figure>\n",
    "  <figure style=\"display: inline-block; margin: 10px;\">\n",
    "    <img src=\"https://r2img.xianrenzhou.top/pics/2024/07/5128d77ec80eda5fb7e0e60b87b37172.png\" alt=\"Image 3\" width=\"200\" />\n",
    "    <figcaption>    mosquito</figcaption>\n",
    "  </figure>\n",
    "</p>\n",
    "\n",
    "图中可以看到：\n",
    "\n",
    "#### 对于audio:\n",
    "- 各个频段的能量变化较大,频率成分较为丰富。\n",
    "\n",
    "#### 对于background: \n",
    "- 相对较低且稳定的频率分布，频率成分较少。\n",
    "- 能量集中在低频段，且随时间变化不大，表现出持续且单调的背景噪音特征。\n",
    "\n",
    "#### 对于mosquito: \n",
    "- 明显的周期性频率分布，频率集中在特定频段。\n",
    "- 较为规则的横向条纹，推测条纹是蚊子翅膀振动产生的特定频率。\n",
    "\n",
    "\n",
    "## 对数据集各分类频率进行可视化 辅助模型参数选择 （为了notebook运行方便，在此不再展示代码，可从gitHub获取详细代码）\n",
    "\n",
    "<img src=\"https://r2img.xianrenzhou.top/pics/2024/07/883fa647fa8ce057b4d4c412f87296ea.png\" alt=\"Image 4\" width=\"300\" />\n",
    "\n",
    "可以看到，数据集极度不平衡，因此在设计的时候要考虑到各个数据的权重问题"
   ]
  },
  {
   "cell_type": "markdown",
   "metadata": {},
   "source": []
  },
  {
   "cell_type": "code",
   "execution_count": null,
   "metadata": {},
   "outputs": [],
   "source": [
    "\n"
   ]
  },
  {
   "cell_type": "code",
   "execution_count": null,
   "metadata": {
    "vscode": {
     "languageId": "plaintext"
    }
   },
   "outputs": [],
   "source": []
  }
 ],
 "metadata": {
  "language_info": {
   "name": "python"
  }
 },
 "nbformat": 4,
 "nbformat_minor": 2
}
